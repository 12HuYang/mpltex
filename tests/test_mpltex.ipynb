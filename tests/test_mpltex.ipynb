{
 "metadata": {
  "name": "",
  "signature": "sha256:6f52a3115134fcfb0e124aca0634e85d0238c92794f211ac2a232187b6431644"
 },
 "nbformat": 3,
 "nbformat_minor": 0,
 "worksheets": [
  {
   "cells": [
    {
     "cell_type": "code",
     "collapsed": false,
     "input": [
      "import matplotlib as mpl\n",
      "mpl.use('Agg')  # To avoid launching interactive plot, such as wxAgg.\n",
      "import matplotlib.pyplot as plt\n",
      "import numpy as np\n",
      "\n",
      "import mpltex\n",
      "\n",
      "@mpltex.acs_decorator\n",
      "def test_plot_scatter():\n",
      "    # Set the random seed for consistency\n",
      "    np.random.seed(12)\n",
      "\n",
      "    fig, ax = plt.subplots(1)\n",
      "\n",
      "    # The default line style is iterating over color, line, and marker with\n",
      "    # hollow types.\n",
      "    linestyle = mpltex.linestyle_generator(colors=[],\n",
      "                                           lines=['-',':'],\n",
      "                                           markers=['o','s'],\n",
      "                                           hollow_styles=[False, False, True, True],\n",
      "                                          )\n",
      "    for i in range(8):\n",
      "        y = np.random.normal(size=10).cumsum()\n",
      "        x = np.arange(10)\n",
      "        #print linestyle.next()\n",
      "        ax.plot(x, y, label=str(i), **linestyle.next())\n",
      "        #ax.plot(x, y, label=str(i))\n",
      "        ax.locator_params(nbins=5)\n",
      "\n",
      "    ax.set_xlabel('Number of steps')\n",
      "    ax.set_ylabel('Distance')\n",
      "    ax.legend(loc='best', ncol=4)\n",
      "\n",
      "    fig.tight_layout(pad=0.1)\n",
      "    fig.savefig('test_special_custom_linestyle_generator')\n",
      "    \n",
      "test_plot_scatter()"
     ],
     "language": "python",
     "metadata": {},
     "outputs": [],
     "prompt_number": 14
    },
    {
     "cell_type": "code",
     "collapsed": false,
     "input": [],
     "language": "python",
     "metadata": {},
     "outputs": []
    }
   ],
   "metadata": {}
  }
 ]
}