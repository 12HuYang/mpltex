{
 "cells": [
  {
   "cell_type": "markdown",
   "metadata": {},
   "source": [
    "# mpltex: A Tool for Creating Publication-Quality Plots"
   ]
  },
  {
   "cell_type": "markdown",
   "metadata": {},
   "source": [
    "Plot created by matplotlib default settings."
   ]
  },
  {
   "cell_type": "code",
   "execution_count": 1,
   "metadata": {},
   "outputs": [],
   "source": [
    "import numpy as np\n",
    "import matplotlib.pyplot as plt\n",
    "\n",
    "def my_plot(t):\n",
    "    fig, ax = plt.subplots(1) \n",
    "    ax.plot(t, t, label='$t$')\n",
    "    ax.plot(t, t**2, label='$t^2$')\n",
    "    ax.plot(t, t**3, label='$t^3$')\n",
    "    ax.plot(t, t**4, label='$t^4$')\n",
    "    ax.plot(t, np.log(1+t), label='$\\ln(1+t)$')\n",
    "    ax.plot(t, t**(1./2), label='$t^{1/2}$')\n",
    "    ax.plot(t, t**(1./3), label='$t^{1/3}$')\n",
    "    \n",
    "    ax.set_xlabel('$t$')\n",
    "    ax.set_ylabel('$f(t)$')\n",
    "    ax.legend(loc='best', ncol=2)\n",
    "    fig.tight_layout(pad=0.1)\n",
    "    fig.savefig('matplotlib-raw')\n",
    "    \n",
    "t = np.arange(0, 1.0+0.01, 0.01)\n",
    "my_plot(t)\n",
    "plt.close('all')"
   ]
  },
  {
   "cell_type": "markdown",
   "metadata": {},
   "source": [
    "Plot created by mpltex, only cycling colors."
   ]
  },
  {
   "cell_type": "code",
   "execution_count": 2,
   "metadata": {},
   "outputs": [],
   "source": [
    "import numpy as np\n",
    "import matplotlib.pyplot as plt\n",
    "\n",
    "import mpltex\n",
    "\n",
    "@mpltex.acs_decorator\n",
    "def my_plot(t):\n",
    "    fig, ax = plt.subplots(1) \n",
    "    ax.plot(t, t, label='$t$')\n",
    "    ax.plot(t, t**2, label='$t^2$')\n",
    "    ax.plot(t, t**3, label='$t^3$')\n",
    "    ax.plot(t, t**4, label='$t^4$')\n",
    "    ax.plot(t, np.log(1+t), label='$\\ln(1+t)$')\n",
    "    ax.plot(t, t**(1./2), label='$t^{1/2}$')\n",
    "    ax.plot(t, t**(1./3), label='$t^{1/3}$')\n",
    "    \n",
    "    ax.set_xlabel('$t$')\n",
    "    ax.set_ylabel('$f(t)$')\n",
    "    ax.legend(loc='best', ncol=2)\n",
    "    fig.tight_layout(pad=0.1)\n",
    "    fig.savefig('mpltex-acs')\n",
    "    \n",
    "t = np.arange(0, 1.0+0.01, 0.01)\n",
    "my_plot(t)\n",
    "plt.close('all')"
   ]
  },
  {
   "cell_type": "markdown",
   "metadata": {},
   "source": [
    "Plot created by mpltex, cycling line styles and line markers."
   ]
  },
  {
   "cell_type": "code",
   "execution_count": 3,
   "metadata": {},
   "outputs": [],
   "source": [
    "import numpy as np\n",
    "import matplotlib.pyplot as plt\n",
    "\n",
    "import mpltex\n",
    "\n",
    "@mpltex.acs_decorator\n",
    "def my_plot(t):\n",
    "    fig, ax = plt.subplots(1)\n",
    "    linestyles = mpltex.linestyles()\n",
    "    ax.plot(t, t, label='$t$', **linestyles.next())\n",
    "    ax.plot(t, t**2, label='$t^2$', **linestyles.next())\n",
    "    ax.plot(t, t**3, label='$t^3$', **linestyles.next())\n",
    "    ax.plot(t, t**4, label='$t^4$', **linestyles.next())\n",
    "    ax.plot(t, np.log(1+t), label='$\\ln(1+t)$', **linestyles.next())\n",
    "    ax.plot(t, t**(1./2), label='$t^{1/2}$', **linestyles.next())\n",
    "    ax.plot(t, t**(1./3), label='$t^{1/3}$', **linestyles.next())\n",
    "    \n",
    "    ax.set_xlabel('$t$')\n",
    "    ax.set_ylabel('$f(t)$')\n",
    "    ax.legend(loc='best', ncol=2)\n",
    "    fig.tight_layout(pad=0.1)\n",
    "    fig.savefig('mpltex-acs-line-markers')\n",
    "    \n",
    "t = np.arange(0, 1.0+0.05, 0.05)\n",
    "my_plot(t)\n",
    "plt.close('all')"
   ]
  },
  {
   "cell_type": "markdown",
   "metadata": {},
   "source": [
    "Plot created by mpltex, only cycling line markers."
   ]
  },
  {
   "cell_type": "code",
   "execution_count": 4,
   "metadata": {},
   "outputs": [],
   "source": [
    "import numpy as np\n",
    "import matplotlib.pyplot as plt\n",
    "\n",
    "import mpltex\n",
    "\n",
    "@mpltex.acs_decorator\n",
    "def my_plot(t):\n",
    "    fig, ax = plt.subplots(1)\n",
    "    linestyles = mpltex.linestyles(lines=[])\n",
    "    ax.plot(t, t, label='$t$', **linestyles.next())\n",
    "    ax.plot(t, t**2, label='$t^2$', **linestyles.next())\n",
    "    ax.plot(t, t**3, label='$t^3$', **linestyles.next())\n",
    "    ax.plot(t, t**4, label='$t^4$', **linestyles.next())\n",
    "    ax.plot(t, np.log(1+t), label='$\\ln(1+t)$', **linestyles.next())\n",
    "    ax.plot(t, t**(1./2), label='$t^{1/2}$', **linestyles.next())\n",
    "    ax.plot(t, t**(1./3), label='$t^{1/3}$', **linestyles.next())\n",
    "    \n",
    "    ax.set_xlabel('$t$')\n",
    "    ax.set_ylabel('$f(t)$')\n",
    "    ax.legend(loc='best', ncol=2)\n",
    "    fig.tight_layout(pad=0.1)\n",
    "    fig.savefig('mpltex-acs-markers-only')\n",
    "    \n",
    "t = np.arange(0, 1.0+0.05, 0.05)\n",
    "my_plot(t)\n",
    "plt.close('all')"
   ]
  },
  {
   "cell_type": "markdown",
   "metadata": {},
   "source": [
    "Plot created by mpltex, only cycling line styles."
   ]
  },
  {
   "cell_type": "code",
   "execution_count": 5,
   "metadata": {},
   "outputs": [],
   "source": [
    "import numpy as np\n",
    "import matplotlib.pyplot as plt\n",
    "\n",
    "import mpltex\n",
    "\n",
    "@mpltex.acs_decorator\n",
    "def my_plot(t):\n",
    "    fig, ax = plt.subplots(1)\n",
    "    linestyles = mpltex.linestyles(markers=[])\n",
    "    ax.plot(t, t, label='$t$', **linestyles.next())\n",
    "    ax.plot(t, t**2, label='$t^2$', **linestyles.next())\n",
    "    ax.plot(t, t**3, label='$t^3$', **linestyles.next())\n",
    "    ax.plot(t, t**4, label='$t^4$', **linestyles.next())\n",
    "    ax.plot(t, np.log(1+t), label='$\\ln(1+t)$', **linestyles.next())\n",
    "    ax.plot(t, t**(1./2), label='$t^{1/2}$', **linestyles.next())\n",
    "    ax.plot(t, t**(1./3), label='$t^{1/3}$', **linestyles.next())\n",
    "    \n",
    "    ax.set_xlabel('$t$')\n",
    "    ax.set_ylabel('$f(t)$')\n",
    "    ax.legend(loc='best', ncol=2)\n",
    "    fig.tight_layout(pad=0.1)\n",
    "    fig.savefig('mpltex-acs-lines-only')\n",
    "    \n",
    "t = np.arange(0, 1.0+0.05, 0.05)\n",
    "my_plot(t)\n",
    "plt.close('all')"
   ]
  },
  {
   "cell_type": "markdown",
   "metadata": {},
   "source": [
    "Plot created by mpltex, only cycling filled markers."
   ]
  },
  {
   "cell_type": "code",
   "execution_count": 7,
   "metadata": {},
   "outputs": [],
   "source": [
    "import numpy as np\n",
    "import matplotlib.pyplot as plt\n",
    "\n",
    "import mpltex\n",
    "\n",
    "@mpltex.acs_decorator\n",
    "def my_plot(t):\n",
    "    fig, ax = plt.subplots(1)\n",
    "    linestyles = mpltex.linestyles(lines=[], hollow_styles=[])\n",
    "    ax.plot(t, t, label='$t$', **linestyles.next())\n",
    "    ax.plot(t, t**2, label='$t^2$', **linestyles.next())\n",
    "    ax.plot(t, t**3, label='$t^3$', **linestyles.next())\n",
    "    ax.plot(t, t**4, label='$t^4$', **linestyles.next())\n",
    "    ax.plot(t, np.log(1+t), label='$\\ln(1+t)$', **linestyles.next())\n",
    "    ax.plot(t, t**(1./2), label='$t^{1/2}$', **linestyles.next())\n",
    "    ax.plot(t, t**(1./3), label='$t^{1/3}$', **linestyles.next())\n",
    "    \n",
    "    ax.set_xlabel('$t$')\n",
    "    ax.set_ylabel('$f(t)$')\n",
    "    ax.legend(loc='best', ncol=2)\n",
    "    fig.tight_layout(pad=0.1)\n",
    "    fig.savefig('mpltex-acs-filled-markers-only')\n",
    "    \n",
    "t = np.arange(0, 1.0+0.05, 0.05)\n",
    "my_plot(t)\n",
    "plt.close('all')"
   ]
  },
  {
   "cell_type": "markdown",
   "metadata": {},
   "source": [
    "Plot created by mpltex, cycling line styles and filled markers."
   ]
  },
  {
   "cell_type": "code",
   "execution_count": 8,
   "metadata": {},
   "outputs": [],
   "source": [
    "import numpy as np\n",
    "import matplotlib.pyplot as plt\n",
    "\n",
    "import mpltex\n",
    "\n",
    "@mpltex.acs_decorator\n",
    "def my_plot(t):\n",
    "    fig, ax = plt.subplots(1)\n",
    "    linestyles = mpltex.linestyles(hollow_styles=[])\n",
    "    ax.plot(t, t, label='$t$', **linestyles.next())\n",
    "    ax.plot(t, t**2, label='$t^2$', **linestyles.next())\n",
    "    ax.plot(t, t**3, label='$t^3$', **linestyles.next())\n",
    "    ax.plot(t, t**4, label='$t^4$', **linestyles.next())\n",
    "    ax.plot(t, np.log(1+t), label='$\\ln(1+t)$', **linestyles.next())\n",
    "    ax.plot(t, t**(1./2), label='$t^{1/2}$', **linestyles.next())\n",
    "    ax.plot(t, t**(1./3), label='$t^{1/3}$', **linestyles.next())\n",
    "    \n",
    "    ax.set_xlabel('$t$')\n",
    "    ax.set_ylabel('$f(t)$')\n",
    "    ax.legend(loc='best', ncol=2)\n",
    "    fig.tight_layout(pad=0.1)\n",
    "    fig.savefig('mpltex-acs-lines-filled-markers')\n",
    "    \n",
    "t = np.arange(0, 1.0+0.05, 0.05)\n",
    "my_plot(t)\n",
    "plt.close('all')"
   ]
  },
  {
   "cell_type": "markdown",
   "metadata": {},
   "source": [
    "Plot created by mpltex, cycling filled markers connected by solid lines."
   ]
  },
  {
   "cell_type": "code",
   "execution_count": 9,
   "metadata": {},
   "outputs": [],
   "source": [
    "import numpy as np\n",
    "import matplotlib.pyplot as plt\n",
    "\n",
    "import mpltex\n",
    "\n",
    "@mpltex.acs_decorator\n",
    "def my_plot(t):\n",
    "    fig, ax = plt.subplots(1)\n",
    "    linestyles = mpltex.linestyles(lines=['-'], hollow_styles=[])\n",
    "    ax.plot(t, t, label='$t$', **linestyles.next())\n",
    "    ax.plot(t, t**2, label='$t^2$', **linestyles.next())\n",
    "    ax.plot(t, t**3, label='$t^3$', **linestyles.next())\n",
    "    ax.plot(t, t**4, label='$t^4$', **linestyles.next())\n",
    "    ax.plot(t, np.log(1+t), label='$\\ln(1+t)$', **linestyles.next())\n",
    "    ax.plot(t, t**(1./2), label='$t^{1/2}$', **linestyles.next())\n",
    "    ax.plot(t, t**(1./3), label='$t^{1/3}$', **linestyles.next())\n",
    "    \n",
    "    ax.set_xlabel('$t$')\n",
    "    ax.set_ylabel('$f(t)$')\n",
    "    ax.legend(loc='best', ncol=2)\n",
    "    fig.tight_layout(pad=0.1)\n",
    "    fig.savefig('mpltex-acs-filled-markers-with-solid-line')\n",
    "    \n",
    "t = np.arange(0, 1.0+0.05, 0.05)\n",
    "my_plot(t)\n",
    "plt.close('all')"
   ]
  },
  {
   "cell_type": "markdown",
   "metadata": {},
   "source": [
    "Plot created by mpltex, cycling all markers connected by solid lines."
   ]
  },
  {
   "cell_type": "code",
   "execution_count": 10,
   "metadata": {},
   "outputs": [],
   "source": [
    "import numpy as np\n",
    "import matplotlib.pyplot as plt\n",
    "\n",
    "import mpltex\n",
    "\n",
    "@mpltex.acs_decorator\n",
    "def my_plot(t):\n",
    "    fig, ax = plt.subplots(1)\n",
    "    linestyles = mpltex.linestyles(lines=['-'])\n",
    "    ax.plot(t, t, label='$t$', **linestyles.next())\n",
    "    ax.plot(t, t**2, label='$t^2$', **linestyles.next())\n",
    "    ax.plot(t, t**3, label='$t^3$', **linestyles.next())\n",
    "    ax.plot(t, t**4, label='$t^4$', **linestyles.next())\n",
    "    ax.plot(t, np.log(1+t), label='$\\ln(1+t)$', **linestyles.next())\n",
    "    ax.plot(t, t**(1./2), label='$t^{1/2}$', **linestyles.next())\n",
    "    ax.plot(t, t**(1./3), label='$t^{1/3}$', **linestyles.next())\n",
    "    \n",
    "    ax.set_xlabel('$t$')\n",
    "    ax.set_ylabel('$f(t)$')\n",
    "    ax.legend(loc='best', ncol=2)\n",
    "    fig.tight_layout(pad=0.1)\n",
    "    fig.savefig('mpltex-acs-all-markers-with-solid-line')\n",
    "    \n",
    "t = np.arange(0, 1.0+0.05, 0.05)\n",
    "my_plot(t)\n",
    "plt.close('all')"
   ]
  },
  {
   "cell_type": "markdown",
   "metadata": {},
   "source": [
    "Plot created by mpltex, cycling only a few line styles and markers"
   ]
  },
  {
   "cell_type": "code",
   "execution_count": 11,
   "metadata": {},
   "outputs": [],
   "source": [
    "import numpy as np\n",
    "import matplotlib.pyplot as plt\n",
    "\n",
    "import mpltex\n",
    "\n",
    "@mpltex.acs_decorator\n",
    "def my_plot(t):\n",
    "    fig, ax = plt.subplots(1)\n",
    "    linestyles = mpltex.linestyle_generator(colors=[],\n",
    "                                            lines=['-',':'],\n",
    "                                            markers=['o','s'],\n",
    "                                            hollow_styles=[False, False, True, True],)\n",
    "    ax.plot(t, t, label='$t$', **linestyles.next())\n",
    "    ax.plot(t, t**2, label='$t^2$', **linestyles.next())\n",
    "    ax.plot(t, t**3, label='$t^3$', **linestyles.next())\n",
    "    ax.plot(t, t**4, label='$t^4$', **linestyles.next())\n",
    "    ax.plot(t, np.log(1+t), label='$\\ln(1+t)$', **linestyles.next())\n",
    "    ax.plot(t, t**(1./2), label='$t^{1/2}$', **linestyles.next())\n",
    "    ax.plot(t, t**(1./3), label='$t^{1/3}$', **linestyles.next())\n",
    "    \n",
    "    ax.set_xlabel('$t$')\n",
    "    ax.set_ylabel('$f(t)$')\n",
    "    ax.legend(loc='best', ncol=2)\n",
    "    fig.tight_layout(pad=0.1)\n",
    "    fig.savefig('mpltex-acs-special')\n",
    "    \n",
    "t = np.arange(0, 1.0+0.05, 0.05)\n",
    "my_plot(t)\n",
    "plt.close('all')"
   ]
  },
  {
   "cell_type": "markdown",
   "metadata": {},
   "source": [
    "Plot created by `mpltex`, using Tableau Classic 10 colors"
   ]
  },
  {
   "cell_type": "code",
   "execution_count": 13,
   "metadata": {
    "collapsed": true
   },
   "outputs": [],
   "source": [
    "import numpy as np\n",
    "import matplotlib.pyplot as plt\n",
    "\n",
    "import mpltex\n",
    "from mpltex import tableau_10\n",
    "\n",
    "@mpltex.acs_decorator\n",
    "def my_plot(t):\n",
    "    fig, ax = plt.subplots(1)\n",
    "    linestyles = mpltex.linestyles(colors=tableau_10, lines=['-'])\n",
    "    ax.plot(t, t, label='$t$', **linestyles.next())\n",
    "    ax.plot(t, t**2, label='$t^2$', **linestyles.next())\n",
    "    ax.plot(t, t**3, label='$t^3$', **linestyles.next())\n",
    "    ax.plot(t, t**4, label='$t^4$', **linestyles.next())\n",
    "    ax.plot(t, np.log(1+t), label='$\\ln(1+t)$', **linestyles.next())\n",
    "    ax.plot(t, t**(1./2), label='$t^{1/2}$', **linestyles.next())\n",
    "    ax.plot(t, t**(1./3), label='$t^{1/3}$', **linestyles.next())\n",
    "    \n",
    "    ax.set_xlabel('$t$')\n",
    "    ax.set_ylabel('$f(t)$')\n",
    "    ax.legend(loc='best', ncol=2)\n",
    "    fig.tight_layout(pad=0.1)\n",
    "    fig.savefig('mpltex-acs-all-markers-with-solid-line-tableau10')\n",
    "    \n",
    "t = np.arange(0, 1.0+0.05, 0.05)\n",
    "my_plot(t)\n",
    "plt.close('all')"
   ]
  },
  {
   "cell_type": "markdown",
   "metadata": {},
   "source": [
    "Plot created by `mpltex`, using Color Brewer Set 1 colors"
   ]
  },
  {
   "cell_type": "code",
   "execution_count": 14,
   "metadata": {
    "collapsed": true
   },
   "outputs": [],
   "source": [
    "import numpy as np\n",
    "import matplotlib.pyplot as plt\n",
    "\n",
    "import mpltex\n",
    "from mpltex import brewer_set1\n",
    "\n",
    "@mpltex.acs_decorator\n",
    "def my_plot(t):\n",
    "    fig, ax = plt.subplots(1)\n",
    "    linestyles = mpltex.linestyles(colors=brewer_set1, lines=['-'])\n",
    "    ax.plot(t, t, label='$t$', **linestyles.next())\n",
    "    ax.plot(t, t**2, label='$t^2$', **linestyles.next())\n",
    "    ax.plot(t, t**3, label='$t^3$', **linestyles.next())\n",
    "    ax.plot(t, t**4, label='$t^4$', **linestyles.next())\n",
    "    ax.plot(t, np.log(1+t), label='$\\ln(1+t)$', **linestyles.next())\n",
    "    ax.plot(t, t**(1./2), label='$t^{1/2}$', **linestyles.next())\n",
    "    ax.plot(t, t**(1./3), label='$t^{1/3}$', **linestyles.next())\n",
    "    \n",
    "    ax.set_xlabel('$t$')\n",
    "    ax.set_ylabel('$f(t)$')\n",
    "    ax.legend(loc='best', ncol=2)\n",
    "    fig.tight_layout(pad=0.1)\n",
    "    fig.savefig('mpltex-acs-all-markers-with-solid-line-brewerset1')\n",
    "    \n",
    "t = np.arange(0, 1.0+0.05, 0.05)\n",
    "my_plot(t)\n",
    "plt.close('all')"
   ]
  },
  {
   "cell_type": "code",
   "execution_count": null,
   "metadata": {
    "collapsed": true
   },
   "outputs": [],
   "source": []
  }
 ],
 "metadata": {
  "kernelspec": {
   "display_name": "Python 2",
   "language": "python",
   "name": "python2"
  },
  "language_info": {
   "codemirror_mode": {
    "name": "ipython",
    "version": 2
   },
   "file_extension": ".py",
   "mimetype": "text/x-python",
   "name": "python",
   "nbconvert_exporter": "python",
   "pygments_lexer": "ipython2",
   "version": "2.7.13"
  }
 },
 "nbformat": 4,
 "nbformat_minor": 1
}
